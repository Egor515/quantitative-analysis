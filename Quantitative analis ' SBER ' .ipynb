{
 "cells": [
  {
   "cell_type": "code",
   "execution_count": 154,
   "id": "b467c1d7-22f9-4459-a934-df637bce876d",
   "metadata": {},
   "outputs": [],
   "source": [
    "import numpy as np\n",
    "import pandas as pd\n",
    "import yfinance as yfc\n",
    "import sklearn \n",
    "import csv\n",
    "from sklearn.pipeline import Pipeline\n",
    "from sklearn.compose import ColumnTransformer\n",
    "from sklearn.preprocessing import StandardScaler, MinMaxScaler , OneHotEncoder\n",
    "from sklearn.metrics import accuracy_score , mean_squared_error , mean_absolute_error , r2_score\n",
    "from sklearn.linear_model import LinearRegression , Lasso\n",
    "from sklearn.neighbors import KNeighborsRegressor\n",
    "from sklearn.ensemble import RandomForestRegressor , GradientBoostingRegressor\n",
    "import seaborn as sns\n",
    "import matplotlib.pyplot as plt\n",
    "import holidays\n",
    "import talib as ta\n",
    "from sklearn.decomposition import PCA\n",
    "from sklearn.feature_selection import RFE\n",
    "from sklearn.linear_model import LogisticRegression\n",
    "from catboost import CatBoostRegressor\n",
    "from sklearn.impute import KNNImputer\n",
    "from xgboost import XGBRegressor\n",
    "import pandas as pd\n",
    "from sklearn.model_selection import train_test_split\n",
    "from sklearn.metrics import mean_squared_error, accuracy_score\n",
    "from sklearn.preprocessing import LabelEncoder\n",
    "from sklearn.ensemble import RandomForestClassifier"
   ]
  },
  {
   "cell_type": "code",
   "execution_count": null,
   "id": "4fb708fc-1afd-4811-9f12-b944441ef475",
   "metadata": {},
   "outputs": [],
   "source": []
  },
  {
   "cell_type": "code",
   "execution_count": null,
   "id": "ded6955d-fd99-40a8-b72d-1d85bc165cb9",
   "metadata": {},
   "outputs": [],
   "source": []
  },
  {
   "cell_type": "code",
   "execution_count": 111,
   "id": "b7547d40-a148-43fd-a967-5b9ff89ad8d2",
   "metadata": {},
   "outputs": [
    {
     "name": "stdout",
     "output_type": "stream",
     "text": [
      "        DATE   CLOSE    OPEN    HIGH     LOW           VOL  PRICE_DIFF\n",
      "0 2025-04-01  307.80  310.50  320.26  275.76  1.230000e+11     -0.0062\n",
      "1 2025-03-01  309.72  309.84  329.77  298.80  1.140000e+11      0.0003\n",
      "2 2025-02-01  309.63  280.21  320.92  275.34  1.310000e+11      0.1029\n",
      "Количество строк после добавления индикаторов: 184\n",
      "   CLOSE   OPEN   HIGH    LOW           VOL  PRICE_DIFF  YEAR  MONTH  QUARTER  \\\n",
      "0  88.41  86.56  92.49  84.10  2.710000e+11      0.0569  2010      1        1   \n",
      "1  76.30  87.60  89.80  73.23  4.020000e+11     -0.1370  2010      2        1   \n",
      "2  85.80  77.00  90.92  76.71  4.760000e+11      0.1245  2010      3        1   \n",
      "3  78.60  86.40  90.27  77.82  3.280000e+11     -0.0839  2010      4        2   \n",
      "4  71.00  79.20  84.73  63.81  6.110000e+11     -0.0967  2010      5        2   \n",
      "\n",
      "   SIN_MONTH  ...        SMA        EMA  MACD        ATR        MFI  \\\n",
      "0   0.500000  ...        NaN        NaN   NaN        NaN        NaN   \n",
      "1   0.866025  ...        NaN        NaN   NaN        NaN        NaN   \n",
      "2   1.000000  ...  83.503333  83.503333   NaN        NaN        NaN   \n",
      "3   0.866025  ...  80.233333  81.051667   NaN  14.546667  40.513712   \n",
      "4   0.500000  ...  78.466667  76.025833   0.0  16.671111  35.936173   \n",
      "\n",
      "          CCI  Stochastic_K  Stochastic_D  ADX  CLOSE_lag+1  \n",
      "0         NaN           NaN           NaN  NaN          NaN  \n",
      "1         NaN           NaN           NaN  NaN        88.41  \n",
      "2    6.361579           NaN           NaN  NaN        76.30  \n",
      "3    2.889096           NaN           NaN  NaN        85.80  \n",
      "4 -100.000000           NaN           NaN  NaN        78.60  \n",
      "\n",
      "[5 rows x 22 columns]\n"
     ]
    }
   ],
   "source": [
    "# Чтение данных\n",
    "df = pd.read_csv('/Users/cypinegor/Downloads/Telegram Desktop/Прошлые данные - SBER.csv')\n",
    "\n",
    "# Переименование столбцов\n",
    "d = {'Дата': 'DATE', 'Цена': 'CLOSE', 'Откр.': 'OPEN', 'Макс.': 'HIGH', 'Мин.': 'LOW', 'Объём': 'VOL', 'Изм. %': 'PRICE_DIFF'}\n",
    "df = df.rename(columns=d)\n",
    "\n",
    "# Преобразование даты\n",
    "df['DATE'] = pd.to_datetime(df['DATE'], format='%d.%m.%Y')\n",
    "\n",
    "# Функция для конвертации строки в число с учетом формата VOL\n",
    "def convert_vol(value):\n",
    "    value = value.replace(',', '').strip()  # Убираем запятые и пробелы\n",
    "    if 'B' in value:\n",
    "        return float(value.replace('B', '')) * 1e9  # Умножаем на 1 миллиард\n",
    "    elif 'M' in value:\n",
    "        return float(value.replace('M', '')) * 1e6  # Умножаем на 1 миллион\n",
    "    else:\n",
    "        return float(value)  # Если нет приставки, просто конвертируем в число\n",
    "\n",
    "# Преобразование значений в столбцах, где есть числа с запятой\n",
    "df['CLOSE'] = df['CLOSE'].str.replace(',', '.').astype(float)\n",
    "df['OPEN'] = df['OPEN'].str.replace(',', '.').astype(float)\n",
    "df['HIGH'] = df['HIGH'].str.replace(',', '.').astype(float)\n",
    "df['LOW'] = df['LOW'].str.replace(',', '.').astype(float)\n",
    "\n",
    "# Применение функции для обработки столбца 'VOL'\n",
    "df['VOL'] = df['VOL'].apply(convert_vol)\n",
    "\n",
    "# Преобразование столбца 'PRICE_DIFF' в числовой формат от 0 до 1\n",
    "df['PRICE_DIFF'] = df['PRICE_DIFF'].str.replace(',', '.').str.replace('%', '').astype(float) / 100\n",
    "\n",
    "# Проверка результата\n",
    "print(df.head(3))\n",
    "\n",
    "df['YEAR'] = df['DATE'].dt.year\n",
    "df['MONTH'] = df['DATE'].dt.month \n",
    "df['QUARTER'] = df['DATE'].dt.quarter  \n",
    "df['SIN_MONTH'] = np.sin(2 * np.pi * df['MONTH'] / 12)\n",
    "df['COS_MONTH'] = np.cos(2 * np.pi * df['MONTH'] / 12)\n",
    "df = df.drop('DATE' , axis = 1)\n",
    "df.head(3)\n",
    "df = df[::-1].reset_index(drop=True)\n",
    "\n",
    "# Применяем индикаторы с timeperiod=3\n",
    "df['RSI'] = ta.RSI(df['CLOSE'], timeperiod=3)  # RSI за 3 периода\n",
    "df['SMA'] = ta.SMA(df['CLOSE'], timeperiod=3)  # SMA за 3 периода\n",
    "df['EMA'] = ta.EMA(df['CLOSE'], timeperiod=3)  # EMA за 3 периода\n",
    "macd, macd_signal, macd_hist = ta.MACD(df['CLOSE'], fastperiod=3, slowperiod=3, signalperiod=3)  # MACD за 3 периода\n",
    "df['MACD'] = macd\n",
    "df['ATR'] = ta.ATR(df['HIGH'], df['LOW'], df['CLOSE'], timeperiod=3)  # ATR за 3 периода\n",
    "df['MFI'] = ta.MFI(df['HIGH'], df['LOW'], df['CLOSE'], df['VOL'], timeperiod=3)  # MFI за 3 периода\n",
    "df['CCI'] = ta.CCI(df['HIGH'], df['LOW'], df['CLOSE'], timeperiod=3)  # CCI за 3 периода\n",
    "\n",
    "# Stochastic Oscillator с timeperiod=3\n",
    "slowk, slowd = ta.STOCH(df['HIGH'], df['LOW'], df['CLOSE'], fastk_period=3, slowk_period=3, slowd_period=3)\n",
    "df['Stochastic_K'] = slowk\n",
    "df['Stochastic_D'] = slowd\n",
    "\n",
    "# ADX с timeperiod=3\n",
    "df['ADX'] = ta.ADX(df['HIGH'], df['LOW'], df['CLOSE'], timeperiod=3)  # ADX за 3 периода\n",
    "\n",
    "# Добавляем лаговую переменную для CLOSE (сдвиг на +1 период)\n",
    "df['CLOSE_lag+1'] = df['CLOSE'].shift(1)\n",
    "\n",
    "# Инвертируем данные обратно, чтобы вернуть исходный порядок\n",
    "\n",
    "\n",
    "# Выводим, сколько строк в данных после применения индикаторов\n",
    "print(f\"Количество строк после добавления индикаторов: {df.shape[0]}\")\n",
    "print(df.head(5))\n"
   ]
  },
  {
   "cell_type": "code",
   "execution_count": null,
   "id": "9d73e630-bf66-4375-b5a8-f40a30d83845",
   "metadata": {},
   "outputs": [],
   "source": []
  },
  {
   "cell_type": "code",
   "execution_count": null,
   "id": "dfcf1b87-aca3-4b79-a03b-91ef137c6939",
   "metadata": {},
   "outputs": [],
   "source": []
  },
  {
   "cell_type": "code",
   "execution_count": null,
   "id": "c47f3f27-4b33-4f1f-8b2f-1b95d43e53c5",
   "metadata": {},
   "outputs": [],
   "source": []
  },
  {
   "cell_type": "code",
   "execution_count": 113,
   "id": "3eceee10-554c-4284-ba05-cee3f6bb932e",
   "metadata": {},
   "outputs": [],
   "source": [
    "imputer = KNNImputer(n_neighbors=5)\n",
    "\n",
    "# Применяем импутер к DataFrame\n",
    "df_1 = pd.DataFrame(imputer.fit_transform(df), columns=df.columns)"
   ]
  },
  {
   "cell_type": "code",
   "execution_count": null,
   "id": "5aef6eba-1592-45ee-af70-2ab59594716c",
   "metadata": {},
   "outputs": [],
   "source": []
  },
  {
   "cell_type": "code",
   "execution_count": null,
   "id": "4111becb-29d4-4ccd-9659-6df998a075ea",
   "metadata": {},
   "outputs": [],
   "source": []
  },
  {
   "cell_type": "code",
   "execution_count": null,
   "id": "eaa08400-c2e8-46ac-a1a1-064282eafab8",
   "metadata": {},
   "outputs": [],
   "source": []
  },
  {
   "cell_type": "code",
   "execution_count": null,
   "id": "00d669d4-bf84-4f1d-9326-fe9dad5f99dd",
   "metadata": {},
   "outputs": [],
   "source": []
  },
  {
   "cell_type": "code",
   "execution_count": 116,
   "id": "399db9c6-f7b9-4420-9765-9ff496247945",
   "metadata": {
    "scrolled": true
   },
   "outputs": [
    {
     "name": "stdout",
     "output_type": "stream",
     "text": [
      "Размеры тренировочной выборки: X_train - (146, 25), y_train - (146,)\n",
      "Размеры тестовой выборки: X_test - (37, 25), y_test - (37,)\n"
     ]
    }
   ],
   "source": [
    "lagged_data = df_1.copy()\n",
    "\n",
    "columns_to_lag = ['CLOSE', 'HIGH', 'LOW', 'VOL']\n",
    "for col in columns_to_lag:\n",
    "    lagged_data[f'{col}_lag_1'] = lagged_data[col].shift(1)\n",
    "lagged_data = lagged_data.dropna(axis = 0 )\n",
    "\n",
    "\n",
    "if 'DATE' in lagged_data.columns:\n",
    "    lagged_data = lagged_data.drop('DATE', axis=1)\n",
    "train_size = int(0.8 * len(lagged_data)) \n",
    "train_data = lagged_data[:train_size]\n",
    "test_data = lagged_data[train_size:]\n",
    "X_train = train_data.drop(columns=['CLOSE_lag+1']) \n",
    "y_train = train_data['CLOSE_lag+1']  \n",
    "\n",
    "X_test = test_data.drop(columns=['CLOSE_lag+1']) \n",
    "y_test = test_data['CLOSE_lag+1']  \n",
    "\n",
    "print(f\"Размеры тренировочной выборки: X_train - {X_train.shape}, y_train - {y_train.shape}\")\n",
    "print(f\"Размеры тестовой выборки: X_test - {X_test.shape}, y_test - {y_test.shape}\")"
   ]
  },
  {
   "cell_type": "code",
   "execution_count": 164,
   "id": "a40ad211-bf80-42c0-96a5-677cb4346a05",
   "metadata": {},
   "outputs": [
    {
     "name": "stdout",
     "output_type": "stream",
     "text": [
      "   OPEN   HIGH         SMA         EMA  CLOSE_lag_1  HIGH_lag_1  LOW_lag_1\n",
      "1  87.6  89.80  127.888667  127.395722        88.41       92.49      84.10\n",
      "2  77.0  90.92   83.503333   83.503333        76.30       89.80      73.23\n",
      "3  86.4  90.27   80.233333   81.051667        85.80       90.92      76.71\n",
      "4  79.2  84.73   78.466667   76.025833        78.60       90.27      77.82\n",
      "5  70.4  84.56   75.366667   76.262917        71.00       84.73      63.81\n"
     ]
    },
    {
     "data": {
      "image/png": "[encoded data removed]",
      "text/plain": [
       "<Figure size 1200x600 with 1 Axes>"
      ]
     },
     "metadata": {},
     "output_type": "display_data"
    }
   ],
   "source": [
    "model = RandomForestRegressor()\n",
    "model.fit(X_train, y_train)\n",
    "\n",
    "\n",
    "importances = model.feature_importances_\n",
    "threshold = np.mean(importances)\n",
    "important_features = X_train.columns[importances > threshold]\n",
    "X_train_important = X_train[important_features]\n",
    "print(X_train_important.head())\n",
    "\n",
    "importances_important = importances[X_train.columns.isin(important_features)]\n",
    "sorted_indices = np.argsort(importances_important)[::-1]\n",
    "sorted_features = important_features[sorted_indices]\n",
    "\n",
    "plt.figure(figsize=(12, 6))\n",
    "plt.title(\"Важность признаков в модели Random Forest\", fontsize=14)\n",
    "plt.barh(range(len(sorted_features)), importances_important[sorted_indices], align=\"center\", color=\"skyblue\")\n",
    "plt.yticks(range(len(sorted_features)), sorted_features, fontsize=12)\n",
    "plt.xlabel(\"Важность\", fontsize=12)\n",
    "plt.ylabel(\"Признаки\", fontsize=12)\n",
    "plt.tight_layout()\n",
    "plt.show()"
   ]
  },
  {
   "cell_type": "code",
   "execution_count": 160,
   "id": "7e8b4956-8123-46ee-b8d3-c9c16ca59d9a",
   "metadata": {},
   "outputs": [
    {
     "name": "stdout",
     "output_type": "stream",
     "text": [
      "MSE на зафитчеванном град бустинге: 11.545611705607516\n",
      "MAE на зафитчеванном град бустинге: 2.3843409647286533\n"
     ]
    }
   ],
   "source": [
    "lagged_data_feat = lagged_data.drop('CLOSE_lag+1' , axis = 1)\n",
    "numeric_cols = lagged_data_feat.select_dtypes(include=['number']).columns.tolist()\n",
    "non_numeric_cols = lagged_data_feat.select_dtypes(exclude=['number']).columns.tolist()\n",
    "preprocessor = ColumnTransformer(\n",
    "    transformers=[\n",
    "        ('num', StandardScaler(), numeric_cols), \n",
    "        ('cat', OneHotEncoder(), non_numeric_cols)      ])\n",
    "\n",
    "model_pipeline = Pipeline(steps=[\n",
    "    # ('preprocessor', preprocessor),  # Применяем предобработку данных\n",
    "    ('regressor', GradientBoostingRegressor(n_estimators=2000 , learning_rate=0.01 , max_depth= 3 ))\n",
    "])\n",
    "\n",
    "\n",
    "model_pipeline.fit(X_train_important, y_train) #X_train_important\n",
    "y_pred = model_pipeline.predict(X_test[X_train_important.columns])  #X_test[X_train_important.columns]\n",
    "mse = mean_squared_error(y_test, y_pred)\n",
    "mae = mean_absolute_error(y_test, y_pred)\n",
    "\n",
    "\n",
    "print(f'MSE на зафитчеванном град бустинге: {mse}')\n",
    "print(f'MAE на зафитчеванном град бустинге: {mae}')\n"
   ]
  },
  {
   "cell_type": "code",
   "execution_count": 161,
   "id": "d75837f3-70a4-4584-a418-b92b9f85b3e4",
   "metadata": {},
   "outputs": [
    {
     "data": {
      "text/plain": [
       "np.float64(310.78999932339804)"
      ]
     },
     "execution_count": 161,
     "metadata": {},
     "output_type": "execute_result"
    }
   ],
   "source": [
    "y_pred[-1]"
   ]
  },
  {
   "cell_type": "code",
   "execution_count": 162,
   "id": "5eb2f48e-72a4-46b6-afcb-6eb72b908b5d",
   "metadata": {},
   "outputs": [
    {
     "name": "stdout",
     "output_type": "stream",
     "text": [
      "R²: 0.9975789278579322\n"
     ]
    }
   ],
   "source": [
    "r2 = r2_score(y_test, y_pred)\n",
    "print(f\"R²: {r2}\")"
   ]
  },
  {
   "cell_type": "code",
   "execution_count": null,
   "id": "35a25c15-1cb1-4b3b-8897-27116584094b",
   "metadata": {},
   "outputs": [],
   "source": []
  },
  {
   "cell_type": "code",
   "execution_count": null,
   "id": "8f0ae591-26ba-487c-9264-9a5f27ce16af",
   "metadata": {},
   "outputs": [],
   "source": []
  },
  {
   "cell_type": "code",
   "execution_count": 99,
   "id": "12530d56-b0e9-4251-8f86-76c3f2db965b",
   "metadata": {},
   "outputs": [
    {
     "data": {
      "image/png": "[encoded data removed]",
      "text/plain": [
       "<Figure size 1000x600 with 1 Axes>"
      ]
     },
     "metadata": {},
     "output_type": "display_data"
    }
   ],
   "source": [
    "data_end = pd.DataFrame({'y_pred': y_pred, 'y_test': y_test})\n",
    "plt.figure(figsize=(10, 6))\n",
    "sns.lineplot(x=data_end.index, y=data_end['y_pred'], color='b', label='Предсказанные значения')\n",
    "sns.lineplot(x=data_end.index, y=data_end['y_test'], color='g', label='Фактические значения')\n",
    "plt.xlabel('Индекс')\n",
    "plt.ylabel('Значение')\n",
    "plt.title('График предсказаний модели (предсказанные и фактические значения)')\n",
    "plt.legend()\n",
    "plt.show()"
   ]
  },
  {
   "cell_type": "code",
   "execution_count": 329,
   "id": "a5443e6d-98a1-43ae-886d-e91df58d4258",
   "metadata": {},
   "outputs": [
    {
     "name": "stdout",
     "output_type": "stream",
     "text": [
      "['CLOSE', 'OPEN', 'HIGH', 'LOW', 'VOL', 'PRICE_DIFF', 'YEAR', 'MONTH', 'QUARTER', 'SIN_MONTH', 'COS_MONTH', 'RSI', 'SMA', 'EMA', 'MACD', 'ATR', 'MFI', 'CCI', 'Stochastic_K', 'Stochastic_D', 'ADX']\n"
     ]
    }
   ],
   "source": [
    "print(lagged_data.columns.tolist())"
   ]
  },
  {
   "cell_type": "code",
   "execution_count": 50,
   "id": "ad587676-3482-4243-a611-bf9f333e4cf4",
   "metadata": {},
   "outputs": [
    {
     "data": {
      "text/plain": [
       "np.float64(308.5338747531789)"
      ]
     },
     "execution_count": 50,
     "metadata": {},
     "output_type": "execute_result"
    }
   ],
   "source": [
    "y_pred[-1]"
   ]
  },
  {
   "cell_type": "code",
   "execution_count": null,
   "id": "103adbc8-b972-4f61-a42f-49f4b8bfbbaf",
   "metadata": {},
   "outputs": [],
   "source": [
    "MSE на зафитчеванном рандомном лесе 9.474343414800657\n",
    "MAE на зафитчеванном рандомном лесе 2.297587176619027"
   ]
  },
  {
   "cell_type": "code",
   "execution_count": null,
   "id": "6d51dc1b-c7d7-4525-97ae-7f93ff1df5cf",
   "metadata": {},
   "outputs": [],
   "source": []
  },
  {
   "cell_type": "code",
   "execution_count": null,
   "id": "974a2827-1d85-4ad4-8b63-4d54668d862b",
   "metadata": {},
   "outputs": [],
   "source": []
  },
  {
   "cell_type": "code",
   "execution_count": null,
   "id": "5cb74097-aed3-46d5-923c-9eaa8f947a37",
   "metadata": {},
   "outputs": [],
   "source": []
  },
  {
   "cell_type": "code",
   "execution_count": null,
   "id": "6cb66dfc-29b8-40d2-a1cb-0f5b5283b5e8",
   "metadata": {},
   "outputs": [],
   "source": []
  },
  {
   "cell_type": "code",
   "execution_count": null,
   "id": "a2904ef5-4156-4864-948d-5cb518aeffa3",
   "metadata": {
    "scrolled": true
   },
   "outputs": [],
   "source": []
  },
  {
   "cell_type": "code",
   "execution_count": null,
   "id": "271df0e5-c25e-4acd-9c76-2ecde329885b",
   "metadata": {},
   "outputs": [],
   "source": []
  },
  {
   "cell_type": "code",
   "execution_count": null,
   "id": "228b37bc-0ed2-4109-8609-d89ee7370fc4",
   "metadata": {},
   "outputs": [],
   "source": []
  },
  {
   "cell_type": "code",
   "execution_count": null,
   "id": "aeeb3da3-2b77-4c65-ab76-760d118abf72",
   "metadata": {},
   "outputs": [],
   "source": []
  },
  {
   "cell_type": "code",
   "execution_count": 129,
   "id": "65de361f-ce28-449f-b320-872213cf0e2d",
   "metadata": {},
   "outputs": [],
   "source": []
  },
  {
   "cell_type": "code",
   "execution_count": null,
   "id": "29bbab29-ce10-4025-9f45-0aca62b15233",
   "metadata": {},
   "outputs": [],
   "source": []
  },
  {
   "cell_type": "code",
   "execution_count": null,
   "id": "9d4df7e9-26f9-4bc6-8533-dff39d7f4341",
   "metadata": {},
   "outputs": [],
   "source": []
  },
  {
   "cell_type": "code",
   "execution_count": null,
   "id": "9060735b-817a-47b8-8e3b-4e27a9a5db84",
   "metadata": {},
   "outputs": [],
   "source": []
  },
  {
   "cell_type": "code",
   "execution_count": null,
   "id": "c3cbecf8-2eda-462c-871f-a67537d5d380",
   "metadata": {},
   "outputs": [],
   "source": []
  },
  {
   "cell_type": "code",
   "execution_count": null,
   "id": "adc51134-a611-4021-b634-f394b2d55015",
   "metadata": {},
   "outputs": [],
   "source": []
  },
  {
   "cell_type": "code",
   "execution_count": null,
   "id": "898b6b61-3e55-43ed-b0a5-8b4c32944257",
   "metadata": {},
   "outputs": [],
   "source": []
  },
  {
   "cell_type": "code",
   "execution_count": null,
   "id": "bc18580c-0d5a-479b-8c9a-0e88ef5af708",
   "metadata": {},
   "outputs": [],
   "source": []
  }
 ],
 "metadata": {
  "kernelspec": {
   "display_name": "Python 3 (ipykernel)",
   "language": "python",
   "name": "python3"
  },
  "language_info": {
   "codemirror_mode": {
    "name": "ipython",
    "version": 3
   },
   "file_extension": ".py",
   "mimetype": "text/x-python",
   "name": "python",
   "nbconvert_exporter": "python",
   "pygments_lexer": "ipython3",
   "version": "3.13.0"
  }
 },
 "nbformat": 4,
 "nbformat_minor": 5
}
